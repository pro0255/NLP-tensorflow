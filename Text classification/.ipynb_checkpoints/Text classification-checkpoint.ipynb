{
 "cells": [
  {
   "cell_type": "markdown",
   "id": "beginning-advertising",
   "metadata": {},
   "source": [
    "\n",
    "- https://www.tensorflow.org/hub/tutorials/tf2_text_classification"
   ]
  },
  {
   "cell_type": "markdown",
   "id": "consecutive-kuwait",
   "metadata": {},
   "source": [
    "This notebook classifies movie reviews as positive or negative using the text of the review. This is an example of binary—or two-class—classification, an important and widely applicable kind of machine learning problem."
   ]
  },
  {
   "cell_type": "code",
   "execution_count": 3,
   "id": "embedded-tomato",
   "metadata": {},
   "outputs": [],
   "source": [
    "import numpy as np\n",
    "\n",
    "import tensorflow as tf\n",
    "import tensorflow_hub as hub\n",
    "import tensorflow_datasets as tfds\n",
    "\n",
    "import matplotlib.pyplot as plt"
   ]
  },
  {
   "cell_type": "code",
   "execution_count": 4,
   "id": "geographic-telephone",
   "metadata": {},
   "outputs": [
    {
     "name": "stdout",
     "output_type": "stream",
     "text": [
      "Version:  2.4.1\n",
      "Eager mode:  True\n",
      "Hub version:  0.11.0\n",
      "GPU is NOT AVAILABLE\n"
     ]
    }
   ],
   "source": [
    "print(\"Version: \", tf.__version__)\n",
    "print(\"Eager mode: \", tf.executing_eagerly())\n",
    "print(\"Hub version: \", hub.__version__)\n",
    "print(\"GPU is\", \"available\" if tf.config.list_physical_devices('GPU') else \"NOT AVAILABLE\")"
   ]
  },
  {
   "cell_type": "code",
   "execution_count": 5,
   "id": "electoral-treatment",
   "metadata": {},
   "outputs": [],
   "source": [
    "train_data, test_data = tfds.load(name=\"imdb_reviews\", split=[\"train\", \"test\"], \n",
    "                                  batch_size=-1, as_supervised=True)\n"
   ]
  },
  {
   "cell_type": "code",
   "execution_count": 6,
   "id": "alert-finding",
   "metadata": {},
   "outputs": [],
   "source": [
    "train_examples, train_labels = tfds.as_numpy(train_data)\n",
    "test_examples, test_labels = tfds.as_numpy(test_data)"
   ]
  },
  {
   "cell_type": "code",
   "execution_count": 8,
   "id": "handled-debut",
   "metadata": {},
   "outputs": [],
   "source": [
    "look_up_size = 5"
   ]
  },
  {
   "cell_type": "code",
   "execution_count": 9,
   "id": "applicable-attribute",
   "metadata": {},
   "outputs": [
    {
     "name": "stdout",
     "output_type": "stream",
     "text": [
      "[b\"This was an absolutely terrible movie. Don't be lured in by Christopher Walken or Michael Ironside. Both are great actors, but this must simply be their worst role in history. Even their great acting could not redeem this movie's ridiculous storyline. This movie is an early nineties US propaganda piece. The most pathetic scenes were those when the Columbian rebels were making their cases for revolutions. Maria Conchita Alonso appeared phony, and her pseudo-love affair with Walken was nothing but a pathetic emotional plug in a movie that was devoid of any real meaning. I am disappointed that there are movies like this, ruining actor's like Christopher Walken's good name. I could barely sit through it.\"\n",
      " b'I have been known to fall asleep during films, but this is usually due to a combination of things including, really tired, being warm and comfortable on the sette and having just eaten a lot. However on this occasion I fell asleep because the film was rubbish. The plot development was constant. Constantly slow and boring. Things seemed to happen, but with no explanation of what was causing them or why. I admit, I may have missed part of the film, but i watched the majority of it and everything just seemed to happen of its own accord without any real concern for anything else. I cant recommend this film at all.'\n",
      " b'Mann photographs the Alberta Rocky Mountains in a superb fashion, and Jimmy Stewart and Walter Brennan give enjoyable performances as they always seem to do. <br /><br />But come on Hollywood - a Mountie telling the people of Dawson City, Yukon to elect themselves a marshal (yes a marshal!) and to enforce the law themselves, then gunfighters battling it out on the streets for control of the town? <br /><br />Nothing even remotely resembling that happened on the Canadian side of the border during the Klondike gold rush. Mr. Mann and company appear to have mistaken Dawson City for Deadwood, the Canadian North for the American Wild West.<br /><br />Canadian viewers be prepared for a Reefer Madness type of enjoyable howl with this ludicrous plot, or, to shake your head in disgust.'\n",
      " b'This is the kind of film for a snowy Sunday afternoon when the rest of the world can go ahead with its own business as you descend into a big arm-chair and mellow for a couple of hours. Wonderful performances from Cher and Nicolas Cage (as always) gently row the plot along. There are no rapids to cross, no dangerous waters, just a warm and witty paddle through New York life at its best. A family film in every sense and one that deserves the praise it received.'\n",
      " b'As others have mentioned, all the women that go nude in this film are mostly absolutely gorgeous. The plot very ably shows the hypocrisy of the female libido. When men are around they want to be pursued, but when no \"men\" are around, they become the pursuers of a 14 year old boy. And the boy becomes a man really fast (we should all be so lucky at this age!). He then gets up the courage to pursue his true love.']\n"
     ]
    }
   ],
   "source": [
    "print(train_examples[0:look_up_size])"
   ]
  },
  {
   "cell_type": "code",
   "execution_count": 10,
   "id": "italian-egyptian",
   "metadata": {},
   "outputs": [
    {
     "name": "stdout",
     "output_type": "stream",
     "text": [
      "[0 0 0 1 1]\n"
     ]
    }
   ],
   "source": [
    "print(train_labels[0:look_up_size])"
   ]
  },
  {
   "cell_type": "code",
   "execution_count": 12,
   "id": "pursuant-latin",
   "metadata": {},
   "outputs": [
    {
     "data": {
      "text/plain": [
       "<tf.Tensor: shape=(3, 50), dtype=float32, numpy=\n",
       "array([[ 0.5423195 , -0.0119017 ,  0.06337538,  0.06862972, -0.16776837,\n",
       "        -0.10581174,  0.16865303, -0.04998824, -0.31148055,  0.07910346,\n",
       "         0.15442263,  0.01488662,  0.03930153,  0.19772711, -0.12215476,\n",
       "        -0.04120981, -0.2704109 , -0.21922152,  0.26517662, -0.80739075,\n",
       "         0.25833532, -0.3100421 ,  0.28683215,  0.1943387 , -0.29036492,\n",
       "         0.03862849, -0.7844411 , -0.0479324 ,  0.4110299 , -0.36388892,\n",
       "        -0.58034706,  0.30269456,  0.3630897 , -0.15227164, -0.44391504,\n",
       "         0.19462997,  0.19528408,  0.05666234,  0.2890704 , -0.28468323,\n",
       "        -0.00531206,  0.0571938 , -0.3201318 , -0.04418665, -0.08550783,\n",
       "        -0.55847436, -0.23336391, -0.20782952, -0.03543064, -0.17533456],\n",
       "       [ 0.56338924, -0.12339553, -0.10862679,  0.7753425 , -0.07667089,\n",
       "        -0.15752277,  0.01872335, -0.08169781, -0.3521876 ,  0.4637341 ,\n",
       "        -0.08492756,  0.07166859, -0.00670817,  0.12686075, -0.19326553,\n",
       "        -0.52626437, -0.3295823 ,  0.14394785,  0.09043556, -0.5417555 ,\n",
       "         0.02468163, -0.15456742,  0.68333143,  0.09068331, -0.45327246,\n",
       "         0.23180096, -0.8615696 ,  0.34480393,  0.12838456, -0.58759046,\n",
       "        -0.4071231 ,  0.23061076,  0.48426893, -0.27128142, -0.5380916 ,\n",
       "         0.47016326,  0.22572741, -0.00830663,  0.2846242 , -0.304985  ,\n",
       "         0.04400365,  0.25025874,  0.14867121,  0.40717036, -0.15422426,\n",
       "        -0.06878027, -0.40825695, -0.3149215 ,  0.09283665, -0.20183425],\n",
       "       [ 0.7456154 ,  0.21256861,  0.14400336,  0.5233862 ,  0.11032254,\n",
       "         0.00902788, -0.3667802 , -0.08938274, -0.24165542,  0.33384594,\n",
       "        -0.11194605, -0.01460047, -0.0071645 ,  0.19562712,  0.00685216,\n",
       "        -0.24886718, -0.42796347,  0.18620004, -0.05241098, -0.66462487,\n",
       "         0.13449019, -0.22205497,  0.08633006,  0.43685386,  0.2972681 ,\n",
       "         0.36140734, -0.7196889 ,  0.05291241, -0.14316116, -0.1573394 ,\n",
       "        -0.15056328, -0.05988009, -0.08178931, -0.15569411, -0.09303783,\n",
       "        -0.18971172,  0.07620788, -0.02541647, -0.27134508, -0.3392682 ,\n",
       "        -0.10296468, -0.27275252, -0.34078008,  0.20083304, -0.26644835,\n",
       "         0.00655449, -0.05141488, -0.04261917, -0.45413622,  0.20023568]],\n",
       "      dtype=float32)>"
      ]
     },
     "execution_count": 12,
     "metadata": {},
     "output_type": "execute_result"
    }
   ],
   "source": [
    "model = \"https://tfhub.dev/google/nnlm-en-dim50/2\"\n",
    "hub_layer = hub.KerasLayer(model, input_shape=[], dtype=tf.string, trainable=True)\n",
    "hub_layer(train_examples[:3])"
   ]
  },
  {
   "cell_type": "code",
   "execution_count": 13,
   "id": "sharing-bread",
   "metadata": {},
   "outputs": [
    {
     "name": "stdout",
     "output_type": "stream",
     "text": [
      "Model: \"sequential\"\n",
      "_________________________________________________________________\n",
      "Layer (type)                 Output Shape              Param #   \n",
      "=================================================================\n",
      "keras_layer (KerasLayer)     (None, 50)                48190600  \n",
      "_________________________________________________________________\n",
      "dense (Dense)                (None, 16)                816       \n",
      "_________________________________________________________________\n",
      "dense_1 (Dense)              (None, 1)                 17        \n",
      "=================================================================\n",
      "Total params: 48,191,433\n",
      "Trainable params: 48,191,433\n",
      "Non-trainable params: 0\n",
      "_________________________________________________________________\n"
     ]
    }
   ],
   "source": [
    "model = tf.keras.Sequential()\n",
    "model.add(hub_layer)\n",
    "model.add(tf.keras.layers.Dense(16, activation='relu'))\n",
    "model.add(tf.keras.layers.Dense(1)) #classification of sentiment according to positive or negative one\n",
    "\n",
    "model.summary()"
   ]
  },
  {
   "cell_type": "code",
   "execution_count": 14,
   "id": "closed-customer",
   "metadata": {},
   "outputs": [],
   "source": [
    "model.compile(optimizer='adam',\n",
    "              loss=tf.losses.BinaryCrossentropy(from_logits=True),\n",
    "              metrics=[tf.metrics.BinaryAccuracy(threshold=0.0, name='accuracy')])"
   ]
  },
  {
   "cell_type": "markdown",
   "id": "fuzzy-toilet",
   "metadata": {},
   "source": [
    "Create validation set"
   ]
  },
  {
   "cell_type": "code",
   "execution_count": 16,
   "id": "robust-roman",
   "metadata": {},
   "outputs": [],
   "source": [
    "size_of_validation_set = 10000"
   ]
  },
  {
   "cell_type": "code",
   "execution_count": 17,
   "id": "exempt-aberdeen",
   "metadata": {},
   "outputs": [],
   "source": [
    "x_val = train_examples[:size_of_validation_set]\n",
    "partial_x_train = train_examples[size_of_validation_set:]\n",
    "\n",
    "y_val = train_labels[:size_of_validation_set]\n",
    "partial_y_train = train_labels[size_of_validation_set:]"
   ]
  },
  {
   "cell_type": "code",
   "execution_count": 18,
   "id": "based-council",
   "metadata": {},
   "outputs": [
    {
     "name": "stdout",
     "output_type": "stream",
     "text": [
      "Epoch 1/40\n",
      "30/30 [==============================] - 21s 685ms/step - loss: 0.6672 - accuracy: 0.6254 - val_loss: 0.6002 - val_accuracy: 0.7302\n",
      "Epoch 2/40\n",
      "30/30 [==============================] - 22s 745ms/step - loss: 0.5617 - accuracy: 0.7726 - val_loss: 0.4930 - val_accuracy: 0.8048\n",
      "Epoch 3/40\n",
      "30/30 [==============================] - 21s 698ms/step - loss: 0.4280 - accuracy: 0.8483 - val_loss: 0.3918 - val_accuracy: 0.8449\n",
      "Epoch 4/40\n",
      "30/30 [==============================] - 21s 695ms/step - loss: 0.3021 - accuracy: 0.9037 - val_loss: 0.3393 - val_accuracy: 0.8599\n",
      "Epoch 5/40\n",
      "30/30 [==============================] - 21s 690ms/step - loss: 0.2249 - accuracy: 0.9296 - val_loss: 0.3138 - val_accuracy: 0.8679\n",
      "Epoch 6/40\n",
      "30/30 [==============================] - 20s 666ms/step - loss: 0.1668 - accuracy: 0.9524 - val_loss: 0.3036 - val_accuracy: 0.8709\n",
      "Epoch 7/40\n",
      "30/30 [==============================] - 20s 672ms/step - loss: 0.1170 - accuracy: 0.9711 - val_loss: 0.3037 - val_accuracy: 0.8719\n",
      "Epoch 8/40\n",
      "30/30 [==============================] - 20s 679ms/step - loss: 0.0824 - accuracy: 0.9825 - val_loss: 0.3093 - val_accuracy: 0.8718\n",
      "Epoch 9/40\n",
      "30/30 [==============================] - 20s 668ms/step - loss: 0.0602 - accuracy: 0.9897 - val_loss: 0.3174 - val_accuracy: 0.8717\n",
      "Epoch 10/40\n",
      "30/30 [==============================] - 20s 665ms/step - loss: 0.0446 - accuracy: 0.9946 - val_loss: 0.3280 - val_accuracy: 0.8712\n",
      "Epoch 11/40\n",
      "30/30 [==============================] - 20s 672ms/step - loss: 0.0304 - accuracy: 0.9982 - val_loss: 0.3395 - val_accuracy: 0.8713\n",
      "Epoch 12/40\n",
      "30/30 [==============================] - 21s 686ms/step - loss: 0.0231 - accuracy: 0.9989 - val_loss: 0.3510 - val_accuracy: 0.8704\n",
      "Epoch 13/40\n",
      "30/30 [==============================] - 20s 673ms/step - loss: 0.0174 - accuracy: 0.9992 - val_loss: 0.3627 - val_accuracy: 0.8698\n",
      "Epoch 14/40\n",
      "30/30 [==============================] - 20s 677ms/step - loss: 0.0131 - accuracy: 0.9999 - val_loss: 0.3741 - val_accuracy: 0.8701\n",
      "Epoch 15/40\n",
      "30/30 [==============================] - 20s 667ms/step - loss: 0.0115 - accuracy: 0.9997 - val_loss: 0.3852 - val_accuracy: 0.8697\n",
      "Epoch 16/40\n",
      "30/30 [==============================] - 20s 664ms/step - loss: 0.0092 - accuracy: 0.9999 - val_loss: 0.3960 - val_accuracy: 0.8700\n",
      "Epoch 17/40\n",
      "30/30 [==============================] - 20s 676ms/step - loss: 0.0070 - accuracy: 1.0000 - val_loss: 0.4060 - val_accuracy: 0.8689\n",
      "Epoch 18/40\n",
      "30/30 [==============================] - 20s 675ms/step - loss: 0.0060 - accuracy: 0.9999 - val_loss: 0.4151 - val_accuracy: 0.8693\n",
      "Epoch 19/40\n",
      "30/30 [==============================] - 21s 693ms/step - loss: 0.0049 - accuracy: 1.0000 - val_loss: 0.4241 - val_accuracy: 0.8681\n",
      "Epoch 20/40\n",
      "30/30 [==============================] - 20s 673ms/step - loss: 0.0043 - accuracy: 1.0000 - val_loss: 0.4327 - val_accuracy: 0.8683\n",
      "Epoch 21/40\n",
      "30/30 [==============================] - 22s 730ms/step - loss: 0.0037 - accuracy: 1.0000 - val_loss: 0.4410 - val_accuracy: 0.8684\n",
      "Epoch 22/40\n",
      "30/30 [==============================] - 21s 693ms/step - loss: 0.0032 - accuracy: 1.0000 - val_loss: 0.4489 - val_accuracy: 0.8681\n",
      "Epoch 23/40\n",
      "30/30 [==============================] - 20s 684ms/step - loss: 0.0027 - accuracy: 1.0000 - val_loss: 0.4566 - val_accuracy: 0.8682\n",
      "Epoch 24/40\n",
      "30/30 [==============================] - 21s 685ms/step - loss: 0.0024 - accuracy: 1.0000 - val_loss: 0.4639 - val_accuracy: 0.8677\n",
      "Epoch 25/40\n",
      "30/30 [==============================] - 20s 683ms/step - loss: 0.0021 - accuracy: 1.0000 - val_loss: 0.4710 - val_accuracy: 0.8676\n",
      "Epoch 26/40\n",
      "30/30 [==============================] - 22s 740ms/step - loss: 0.0020 - accuracy: 1.0000 - val_loss: 0.4778 - val_accuracy: 0.8681\n",
      "Epoch 27/40\n",
      "30/30 [==============================] - 22s 747ms/step - loss: 0.0017 - accuracy: 1.0000 - val_loss: 0.4843 - val_accuracy: 0.8673\n",
      "Epoch 28/40\n",
      "30/30 [==============================] - 21s 709ms/step - loss: 0.0015 - accuracy: 1.0000 - val_loss: 0.4906 - val_accuracy: 0.8674\n",
      "Epoch 29/40\n",
      "30/30 [==============================] - 21s 695ms/step - loss: 0.0013 - accuracy: 1.0000 - val_loss: 0.4967 - val_accuracy: 0.8670\n",
      "Epoch 30/40\n",
      "30/30 [==============================] - 24s 799ms/step - loss: 0.0012 - accuracy: 1.0000 - val_loss: 0.5028 - val_accuracy: 0.8674\n",
      "Epoch 31/40\n",
      "30/30 [==============================] - 22s 744ms/step - loss: 0.0011 - accuracy: 1.0000 - val_loss: 0.5087 - val_accuracy: 0.8669\n",
      "Epoch 32/40\n",
      "30/30 [==============================] - 21s 713ms/step - loss: 9.9526e-04 - accuracy: 1.0000 - val_loss: 0.5141 - val_accuracy: 0.8673\n",
      "Epoch 33/40\n",
      "30/30 [==============================] - 22s 722ms/step - loss: 9.6105e-04 - accuracy: 1.0000 - val_loss: 0.5197 - val_accuracy: 0.8671\n",
      "Epoch 34/40\n",
      "30/30 [==============================] - 22s 722ms/step - loss: 8.4698e-04 - accuracy: 1.0000 - val_loss: 0.5247 - val_accuracy: 0.8674\n",
      "Epoch 35/40\n",
      "30/30 [==============================] - 21s 698ms/step - loss: 7.9039e-04 - accuracy: 1.0000 - val_loss: 0.5299 - val_accuracy: 0.8670\n",
      "Epoch 36/40\n",
      "30/30 [==============================] - 21s 707ms/step - loss: 7.2976e-04 - accuracy: 1.0000 - val_loss: 0.5349 - val_accuracy: 0.8668\n",
      "Epoch 37/40\n",
      "30/30 [==============================] - 23s 756ms/step - loss: 6.6626e-04 - accuracy: 1.0000 - val_loss: 0.5396 - val_accuracy: 0.8666\n",
      "Epoch 38/40\n",
      "30/30 [==============================] - 21s 699ms/step - loss: 6.2770e-04 - accuracy: 1.0000 - val_loss: 0.5445 - val_accuracy: 0.8668\n",
      "Epoch 39/40\n",
      "30/30 [==============================] - 21s 705ms/step - loss: 5.7200e-04 - accuracy: 1.0000 - val_loss: 0.5491 - val_accuracy: 0.8669\n",
      "Epoch 40/40\n",
      "30/30 [==============================] - 22s 725ms/step - loss: 5.3232e-04 - accuracy: 1.0000 - val_loss: 0.5536 - val_accuracy: 0.8667\n"
     ]
    }
   ],
   "source": [
    "history = model.fit(partial_x_train,\n",
    "                    partial_y_train,\n",
    "                    epochs=40,\n",
    "                    batch_size=512,\n",
    "                    validation_data=(x_val, y_val),\n",
    "                    verbose=1)"
   ]
  },
  {
   "cell_type": "code",
   "execution_count": null,
   "id": "satisfactory-toner",
   "metadata": {},
   "outputs": [],
   "source": [
    "results = model.evaluate(test_data, test_labels)\n",
    "\n",
    "print(results)"
   ]
  },
  {
   "cell_type": "code",
   "execution_count": 19,
   "id": "brave-scientist",
   "metadata": {},
   "outputs": [
    {
     "data": {
      "text/plain": [
       "dict_keys(['loss', 'accuracy', 'val_loss', 'val_accuracy'])"
      ]
     },
     "execution_count": 19,
     "metadata": {},
     "output_type": "execute_result"
    }
   ],
   "source": [
    "history_dict = history.history\n",
    "history_dict.keys()"
   ]
  },
  {
   "cell_type": "code",
   "execution_count": 20,
   "id": "funded-watershed",
   "metadata": {},
   "outputs": [
    {
     "data": {
      "image/png": "[encoded data removed]",
      "text/plain": [
       "<Figure size 432x288 with 1 Axes>"
      ]
     },
     "metadata": {
      "needs_background": "light"
     },
     "output_type": "display_data"
    }
   ],
   "source": [
    "acc = history_dict['accuracy']\n",
    "val_acc = history_dict['val_accuracy']\n",
    "loss = history_dict['loss']\n",
    "val_loss = history_dict['val_loss']\n",
    "\n",
    "epochs = range(1, len(acc) + 1)\n",
    "\n",
    "# \"bo\" is for \"blue dot\"\n",
    "plt.plot(epochs, loss, 'bo', label='Training loss')\n",
    "# b is for \"solid blue line\"\n",
    "plt.plot(epochs, val_loss, 'b', label='Validation loss')\n",
    "plt.title('Training and validation loss')\n",
    "plt.xlabel('Epochs')\n",
    "plt.ylabel('Loss')\n",
    "plt.legend()\n",
    "\n",
    "plt.show()"
   ]
  },
  {
   "cell_type": "code",
   "execution_count": 21,
   "id": "rolled-financing",
   "metadata": {},
   "outputs": [
    {
     "data": {
      "image/png": "[encoded data removed]",
      "text/plain": [
       "<Figure size 432x288 with 1 Axes>"
      ]
     },
     "metadata": {
      "needs_background": "light"
     },
     "output_type": "display_data"
    }
   ],
   "source": [
    "plt.plot(epochs, acc, 'bo', label='Training acc')\n",
    "plt.plot(epochs, val_acc, 'b', label='Validation acc')\n",
    "plt.title('Training and validation accuracy')\n",
    "plt.xlabel('Epochs')\n",
    "plt.ylabel('Accuracy')\n",
    "plt.legend()\n",
    "\n",
    "plt.show()"
   ]
  },
  {
   "cell_type": "code",
   "execution_count": null,
   "id": "recognized-nursing",
   "metadata": {},
   "outputs": [],
   "source": [
    "model2 = tf.keras.Sequential()\n",
    "model2.add(hub_layer)\n",
    "model2.add(tf.keras.layers.Dense(16, activation='relu'))\n",
    "model2.add(tf.keras.layers.Dense(1)) #classification of sentiment according to positive or negative one"
   ]
  },
  {
   "cell_type": "code",
   "execution_count": null,
   "id": "specified-technique",
   "metadata": {},
   "outputs": [],
   "source": [
    "model2.compile(optimizer='adam',\n",
    "              loss=tf.losses.BinaryCrossentropy(from_logits=True),\n",
    "              metrics=[tf.metrics.BinaryAccuracy(threshold=0.0, name='accuracy')])"
   ]
  },
  {
   "cell_type": "code",
   "execution_count": null,
   "id": "atomic-struggle",
   "metadata": {},
   "outputs": [],
   "source": [
    "history2 = model2.fit(partial_x_train,\n",
    "                    partial_y_train,\n",
    "                    epochs=10,\n",
    "                    batch_size=512,\n",
    "                    validation_data=(x_val, y_val),\n",
    "                    verbose=1)\n",
    "\n",
    "history_dict2 = history2.history\n",
    "history_dict2.keys()"
   ]
  },
  {
   "cell_type": "code",
   "execution_count": null,
   "id": "invalid-pulse",
   "metadata": {},
   "outputs": [],
   "source": [
    "acc2 = history_dict2['accuracy']\n",
    "val_acc2 = history_dict2['val_accuracy']\n",
    "loss2 = history_dict2['loss']\n",
    "val_loss2 = history_dict2['val_loss']\n",
    "\n",
    "epochs2 = range(1, len(acc) + 1)\n",
    "\n",
    "# \"bo\" is for \"blue dot\"\n",
    "plt.plot(epochs2, loss2, 'bo', label='Training loss')\n",
    "# b is for \"solid blue line\"\n",
    "plt.plot(epochs2, val_loss2, 'b', label='Validation loss')\n",
    "plt.title('Training and validation loss')\n",
    "plt.xlabel('Epochs')\n",
    "plt.ylabel('Loss')\n",
    "plt.legend()\n",
    "\n",
    "plt.show()"
   ]
  },
  {
   "cell_type": "code",
   "execution_count": null,
   "id": "balanced-civilization",
   "metadata": {},
   "outputs": [],
   "source": [
    "plt.plot(epochs2, acc2, 'bo', label='Training acc')\n",
    "plt.plot(epochs2, val_acc2, 'b', label='Validation acc')\n",
    "plt.title('Training and validation accuracy')\n",
    "plt.xlabel('Epochs')\n",
    "plt.ylabel('Accuracy')\n",
    "plt.legend()\n",
    "\n",
    "plt.show()"
   ]
  }
 ],
 "metadata": {
  "kernelspec": {
   "display_name": "Python 3",
   "language": "python",
   "name": "python3"
  },
  "language_info": {
   "codemirror_mode": {
    "name": "ipython",
    "version": 3
   },
   "file_extension": ".py",
   "mimetype": "text/x-python",
   "name": "python",
   "nbconvert_exporter": "python",
   "pygments_lexer": "ipython3",
   "version": "3.8.1"
  }
 },
 "nbformat": 4,
 "nbformat_minor": 5
}
